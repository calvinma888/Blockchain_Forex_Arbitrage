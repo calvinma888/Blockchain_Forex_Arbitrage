{
 "cells": [
  {
   "cell_type": "code",
   "execution_count": 1,
   "metadata": {},
   "outputs": [],
   "source": [
    "import urllib.request\n",
    "import pandas as pd\n",
    "from tqdm import tqdm\n",
    "import gzip"
   ]
  },
  {
   "cell_type": "code",
   "execution_count": 2,
   "metadata": {},
   "outputs": [],
   "source": [
    "litecoin_links = pd.read_csv(\"bitcoin_links.csv\")"
   ]
  },
  {
   "cell_type": "code",
   "execution_count": 3,
   "metadata": {
    "scrolled": true
   },
   "outputs": [
    {
     "data": {
      "text/html": [
       "<div>\n",
       "<style scoped>\n",
       "    .dataframe tbody tr th:only-of-type {\n",
       "        vertical-align: middle;\n",
       "    }\n",
       "\n",
       "    .dataframe tbody tr th {\n",
       "        vertical-align: top;\n",
       "    }\n",
       "\n",
       "    .dataframe thead th {\n",
       "        text-align: right;\n",
       "    }\n",
       "</style>\n",
       "<table border=\"1\" class=\"dataframe\">\n",
       "  <thead>\n",
       "    <tr style=\"text-align: right;\">\n",
       "      <th></th>\n",
       "      <th>Link</th>\n",
       "      <th>Anchor Text</th>\n",
       "    </tr>\n",
       "  </thead>\n",
       "  <tbody>\n",
       "    <tr>\n",
       "      <td>0</td>\n",
       "      <td>https://blockchair.com/</td>\n",
       "      <td>Blockchair</td>\n",
       "    </tr>\n",
       "    <tr>\n",
       "      <td>1</td>\n",
       "      <td>https://blockchair.com/dumps</td>\n",
       "      <td>Description</td>\n",
       "    </tr>\n",
       "    <tr>\n",
       "      <td>2</td>\n",
       "      <td>https://gz.blockchair.com/README.html</td>\n",
       "      <td>Lift the speed limit</td>\n",
       "    </tr>\n",
       "    <tr>\n",
       "      <td>3</td>\n",
       "      <td>https://gz.blockchair.com/bitcoin/</td>\n",
       "      <td>../</td>\n",
       "    </tr>\n",
       "    <tr>\n",
       "      <td>4</td>\n",
       "      <td>https://gz.blockchair.com/bitcoin/blocks/block...</td>\n",
       "      <td>blockchair_bitcoin_blocks_20090103.tsv.gz</td>\n",
       "    </tr>\n",
       "    <tr>\n",
       "      <td>...</td>\n",
       "      <td>...</td>\n",
       "      <td>...</td>\n",
       "    </tr>\n",
       "    <tr>\n",
       "      <td>4347</td>\n",
       "      <td>https://github.com/Blockchair/Blockchair.Support</td>\n",
       "      <td>Issues and Requests</td>\n",
       "    </tr>\n",
       "    <tr>\n",
       "      <td>4348</td>\n",
       "      <td>https://blockchair.com/api</td>\n",
       "      <td>API</td>\n",
       "    </tr>\n",
       "    <tr>\n",
       "      <td>4349</td>\n",
       "      <td>https://blockchair.com/about#contacts</td>\n",
       "      <td>Contacts</td>\n",
       "    </tr>\n",
       "    <tr>\n",
       "      <td>4350</td>\n",
       "      <td>https://twitter.com/Blockchair</td>\n",
       "      <td>Twitter</td>\n",
       "    </tr>\n",
       "    <tr>\n",
       "      <td>4351</td>\n",
       "      <td>https://telegram.me/Blockchair</td>\n",
       "      <td>Telegram support</td>\n",
       "    </tr>\n",
       "  </tbody>\n",
       "</table>\n",
       "<p>4352 rows × 2 columns</p>\n",
       "</div>"
      ],
      "text/plain": [
       "                                                   Link  \\\n",
       "0                               https://blockchair.com/   \n",
       "1                          https://blockchair.com/dumps   \n",
       "2                 https://gz.blockchair.com/README.html   \n",
       "3                    https://gz.blockchair.com/bitcoin/   \n",
       "4     https://gz.blockchair.com/bitcoin/blocks/block...   \n",
       "...                                                 ...   \n",
       "4347   https://github.com/Blockchair/Blockchair.Support   \n",
       "4348                         https://blockchair.com/api   \n",
       "4349              https://blockchair.com/about#contacts   \n",
       "4350                     https://twitter.com/Blockchair   \n",
       "4351                     https://telegram.me/Blockchair   \n",
       "\n",
       "                                     Anchor Text  \n",
       "0                                     Blockchair  \n",
       "1                                    Description  \n",
       "2                           Lift the speed limit  \n",
       "3                                            ../  \n",
       "4      blockchair_bitcoin_blocks_20090103.tsv.gz  \n",
       "...                                          ...  \n",
       "4347                         Issues and Requests  \n",
       "4348                                         API  \n",
       "4349                                    Contacts  \n",
       "4350                                     Twitter  \n",
       "4351                            Telegram support  \n",
       "\n",
       "[4352 rows x 2 columns]"
      ]
     },
     "execution_count": 3,
     "metadata": {},
     "output_type": "execute_result"
    }
   ],
   "source": [
    "litecoin_links"
   ]
  },
  {
   "cell_type": "code",
   "execution_count": 4,
   "metadata": {},
   "outputs": [
    {
     "data": {
      "text/html": [
       "<div>\n",
       "<style scoped>\n",
       "    .dataframe tbody tr th:only-of-type {\n",
       "        vertical-align: middle;\n",
       "    }\n",
       "\n",
       "    .dataframe tbody tr th {\n",
       "        vertical-align: top;\n",
       "    }\n",
       "\n",
       "    .dataframe thead th {\n",
       "        text-align: right;\n",
       "    }\n",
       "</style>\n",
       "<table border=\"1\" class=\"dataframe\">\n",
       "  <thead>\n",
       "    <tr style=\"text-align: right;\">\n",
       "      <th></th>\n",
       "      <th>Link</th>\n",
       "      <th>Anchor Text</th>\n",
       "    </tr>\n",
       "  </thead>\n",
       "  <tbody>\n",
       "    <tr>\n",
       "      <td>3979</td>\n",
       "      <td>https://gz.blockchair.com/bitcoin/blocks/block...</td>\n",
       "      <td>blockchair_bitcoin_blocks_20191127.tsv.gz</td>\n",
       "    </tr>\n",
       "    <tr>\n",
       "      <td>3980</td>\n",
       "      <td>https://gz.blockchair.com/bitcoin/blocks/block...</td>\n",
       "      <td>blockchair_bitcoin_blocks_20191128.tsv.gz</td>\n",
       "    </tr>\n",
       "    <tr>\n",
       "      <td>3981</td>\n",
       "      <td>https://gz.blockchair.com/bitcoin/blocks/block...</td>\n",
       "      <td>blockchair_bitcoin_blocks_20191129.tsv.gz</td>\n",
       "    </tr>\n",
       "    <tr>\n",
       "      <td>3982</td>\n",
       "      <td>https://gz.blockchair.com/bitcoin/blocks/block...</td>\n",
       "      <td>blockchair_bitcoin_blocks_20191130.tsv.gz</td>\n",
       "    </tr>\n",
       "    <tr>\n",
       "      <td>3983</td>\n",
       "      <td>https://gz.blockchair.com/bitcoin/blocks/block...</td>\n",
       "      <td>blockchair_bitcoin_blocks_20191201.tsv.gz</td>\n",
       "    </tr>\n",
       "    <tr>\n",
       "      <td>...</td>\n",
       "      <td>...</td>\n",
       "      <td>...</td>\n",
       "    </tr>\n",
       "    <tr>\n",
       "      <td>4341</td>\n",
       "      <td>https://gz.blockchair.com/bitcoin/blocks/block...</td>\n",
       "      <td>blockchair_bitcoin_blocks_20201123.tsv.gz</td>\n",
       "    </tr>\n",
       "    <tr>\n",
       "      <td>4342</td>\n",
       "      <td>https://gz.blockchair.com/bitcoin/blocks/block...</td>\n",
       "      <td>blockchair_bitcoin_blocks_20201124.tsv.gz</td>\n",
       "    </tr>\n",
       "    <tr>\n",
       "      <td>4343</td>\n",
       "      <td>https://gz.blockchair.com/bitcoin/blocks/block...</td>\n",
       "      <td>blockchair_bitcoin_blocks_20201125.tsv.gz</td>\n",
       "    </tr>\n",
       "    <tr>\n",
       "      <td>4344</td>\n",
       "      <td>https://gz.blockchair.com/bitcoin/blocks/block...</td>\n",
       "      <td>blockchair_bitcoin_blocks_20201126.tsv.gz</td>\n",
       "    </tr>\n",
       "    <tr>\n",
       "      <td>4345</td>\n",
       "      <td>https://gz.blockchair.com/bitcoin/blocks/block...</td>\n",
       "      <td>blockchair_bitcoin_blocks_20201127.tsv.gz</td>\n",
       "    </tr>\n",
       "  </tbody>\n",
       "</table>\n",
       "<p>367 rows × 2 columns</p>\n",
       "</div>"
      ],
      "text/plain": [
       "                                                   Link  \\\n",
       "3979  https://gz.blockchair.com/bitcoin/blocks/block...   \n",
       "3980  https://gz.blockchair.com/bitcoin/blocks/block...   \n",
       "3981  https://gz.blockchair.com/bitcoin/blocks/block...   \n",
       "3982  https://gz.blockchair.com/bitcoin/blocks/block...   \n",
       "3983  https://gz.blockchair.com/bitcoin/blocks/block...   \n",
       "...                                                 ...   \n",
       "4341  https://gz.blockchair.com/bitcoin/blocks/block...   \n",
       "4342  https://gz.blockchair.com/bitcoin/blocks/block...   \n",
       "4343  https://gz.blockchair.com/bitcoin/blocks/block...   \n",
       "4344  https://gz.blockchair.com/bitcoin/blocks/block...   \n",
       "4345  https://gz.blockchair.com/bitcoin/blocks/block...   \n",
       "\n",
       "                                     Anchor Text  \n",
       "3979   blockchair_bitcoin_blocks_20191127.tsv.gz  \n",
       "3980   blockchair_bitcoin_blocks_20191128.tsv.gz  \n",
       "3981   blockchair_bitcoin_blocks_20191129.tsv.gz  \n",
       "3982   blockchair_bitcoin_blocks_20191130.tsv.gz  \n",
       "3983   blockchair_bitcoin_blocks_20191201.tsv.gz  \n",
       "...                                          ...  \n",
       "4341   blockchair_bitcoin_blocks_20201123.tsv.gz  \n",
       "4342   blockchair_bitcoin_blocks_20201124.tsv.gz  \n",
       "4343   blockchair_bitcoin_blocks_20201125.tsv.gz  \n",
       "4344   blockchair_bitcoin_blocks_20201126.tsv.gz  \n",
       "4345   blockchair_bitcoin_blocks_20201127.tsv.gz  \n",
       "\n",
       "[367 rows x 2 columns]"
      ]
     },
     "execution_count": 4,
     "metadata": {},
     "output_type": "execute_result"
    }
   ],
   "source": [
    "litecoin_links[3979:4346]"
   ]
  },
  {
   "cell_type": "code",
   "execution_count": 9,
   "metadata": {},
   "outputs": [],
   "source": [
    "litecoin_links_20191126_20201126 = pd.DataFrame(litecoin_links[3978:4345])"
   ]
  },
  {
   "cell_type": "code",
   "execution_count": 10,
   "metadata": {},
   "outputs": [],
   "source": [
    "litecoin_links_20191126_20201126 =litecoin_links_20191126_20201126.reset_index()"
   ]
  },
  {
   "cell_type": "code",
   "execution_count": 11,
   "metadata": {
    "scrolled": false
   },
   "outputs": [
    {
     "data": {
      "text/html": [
       "<div>\n",
       "<style scoped>\n",
       "    .dataframe tbody tr th:only-of-type {\n",
       "        vertical-align: middle;\n",
       "    }\n",
       "\n",
       "    .dataframe tbody tr th {\n",
       "        vertical-align: top;\n",
       "    }\n",
       "\n",
       "    .dataframe thead th {\n",
       "        text-align: right;\n",
       "    }\n",
       "</style>\n",
       "<table border=\"1\" class=\"dataframe\">\n",
       "  <thead>\n",
       "    <tr style=\"text-align: right;\">\n",
       "      <th></th>\n",
       "      <th>index</th>\n",
       "      <th>Link</th>\n",
       "      <th>Anchor Text</th>\n",
       "    </tr>\n",
       "  </thead>\n",
       "  <tbody>\n",
       "    <tr>\n",
       "      <td>0</td>\n",
       "      <td>3978</td>\n",
       "      <td>https://gz.blockchair.com/bitcoin/blocks/block...</td>\n",
       "      <td>blockchair_bitcoin_blocks_20191126.tsv.gz</td>\n",
       "    </tr>\n",
       "    <tr>\n",
       "      <td>1</td>\n",
       "      <td>3979</td>\n",
       "      <td>https://gz.blockchair.com/bitcoin/blocks/block...</td>\n",
       "      <td>blockchair_bitcoin_blocks_20191127.tsv.gz</td>\n",
       "    </tr>\n",
       "    <tr>\n",
       "      <td>2</td>\n",
       "      <td>3980</td>\n",
       "      <td>https://gz.blockchair.com/bitcoin/blocks/block...</td>\n",
       "      <td>blockchair_bitcoin_blocks_20191128.tsv.gz</td>\n",
       "    </tr>\n",
       "    <tr>\n",
       "      <td>3</td>\n",
       "      <td>3981</td>\n",
       "      <td>https://gz.blockchair.com/bitcoin/blocks/block...</td>\n",
       "      <td>blockchair_bitcoin_blocks_20191129.tsv.gz</td>\n",
       "    </tr>\n",
       "    <tr>\n",
       "      <td>4</td>\n",
       "      <td>3982</td>\n",
       "      <td>https://gz.blockchair.com/bitcoin/blocks/block...</td>\n",
       "      <td>blockchair_bitcoin_blocks_20191130.tsv.gz</td>\n",
       "    </tr>\n",
       "    <tr>\n",
       "      <td>...</td>\n",
       "      <td>...</td>\n",
       "      <td>...</td>\n",
       "      <td>...</td>\n",
       "    </tr>\n",
       "    <tr>\n",
       "      <td>362</td>\n",
       "      <td>4340</td>\n",
       "      <td>https://gz.blockchair.com/bitcoin/blocks/block...</td>\n",
       "      <td>blockchair_bitcoin_blocks_20201122.tsv.gz</td>\n",
       "    </tr>\n",
       "    <tr>\n",
       "      <td>363</td>\n",
       "      <td>4341</td>\n",
       "      <td>https://gz.blockchair.com/bitcoin/blocks/block...</td>\n",
       "      <td>blockchair_bitcoin_blocks_20201123.tsv.gz</td>\n",
       "    </tr>\n",
       "    <tr>\n",
       "      <td>364</td>\n",
       "      <td>4342</td>\n",
       "      <td>https://gz.blockchair.com/bitcoin/blocks/block...</td>\n",
       "      <td>blockchair_bitcoin_blocks_20201124.tsv.gz</td>\n",
       "    </tr>\n",
       "    <tr>\n",
       "      <td>365</td>\n",
       "      <td>4343</td>\n",
       "      <td>https://gz.blockchair.com/bitcoin/blocks/block...</td>\n",
       "      <td>blockchair_bitcoin_blocks_20201125.tsv.gz</td>\n",
       "    </tr>\n",
       "    <tr>\n",
       "      <td>366</td>\n",
       "      <td>4344</td>\n",
       "      <td>https://gz.blockchair.com/bitcoin/blocks/block...</td>\n",
       "      <td>blockchair_bitcoin_blocks_20201126.tsv.gz</td>\n",
       "    </tr>\n",
       "  </tbody>\n",
       "</table>\n",
       "<p>367 rows × 3 columns</p>\n",
       "</div>"
      ],
      "text/plain": [
       "     index                                               Link  \\\n",
       "0     3978  https://gz.blockchair.com/bitcoin/blocks/block...   \n",
       "1     3979  https://gz.blockchair.com/bitcoin/blocks/block...   \n",
       "2     3980  https://gz.blockchair.com/bitcoin/blocks/block...   \n",
       "3     3981  https://gz.blockchair.com/bitcoin/blocks/block...   \n",
       "4     3982  https://gz.blockchair.com/bitcoin/blocks/block...   \n",
       "..     ...                                                ...   \n",
       "362   4340  https://gz.blockchair.com/bitcoin/blocks/block...   \n",
       "363   4341  https://gz.blockchair.com/bitcoin/blocks/block...   \n",
       "364   4342  https://gz.blockchair.com/bitcoin/blocks/block...   \n",
       "365   4343  https://gz.blockchair.com/bitcoin/blocks/block...   \n",
       "366   4344  https://gz.blockchair.com/bitcoin/blocks/block...   \n",
       "\n",
       "                                    Anchor Text  \n",
       "0     blockchair_bitcoin_blocks_20191126.tsv.gz  \n",
       "1     blockchair_bitcoin_blocks_20191127.tsv.gz  \n",
       "2     blockchair_bitcoin_blocks_20191128.tsv.gz  \n",
       "3     blockchair_bitcoin_blocks_20191129.tsv.gz  \n",
       "4     blockchair_bitcoin_blocks_20191130.tsv.gz  \n",
       "..                                          ...  \n",
       "362   blockchair_bitcoin_blocks_20201122.tsv.gz  \n",
       "363   blockchair_bitcoin_blocks_20201123.tsv.gz  \n",
       "364   blockchair_bitcoin_blocks_20201124.tsv.gz  \n",
       "365   blockchair_bitcoin_blocks_20201125.tsv.gz  \n",
       "366   blockchair_bitcoin_blocks_20201126.tsv.gz  \n",
       "\n",
       "[367 rows x 3 columns]"
      ]
     },
     "execution_count": 11,
     "metadata": {},
     "output_type": "execute_result"
    }
   ],
   "source": [
    "litecoin_links_20191126_20201126"
   ]
  },
  {
   "cell_type": "code",
   "execution_count": 12,
   "metadata": {
    "scrolled": true
   },
   "outputs": [
    {
     "name": "stderr",
     "output_type": "stream",
     "text": [
      "100%|██████████| 367/367 [09:04<00:00,  1.48s/it]\n"
     ]
    }
   ],
   "source": [
    "for i in tqdm(range(len(litecoin_links_20191126_20201126))):\n",
    "    urllib.request.urlretrieve(litecoin_links_20191126_20201126[\"Link\"][i], litecoin_links_20191126_20201126[\" Anchor Text\"][i][1:])"
   ]
  },
  {
   "cell_type": "code",
   "execution_count": 13,
   "metadata": {},
   "outputs": [
    {
     "name": "stderr",
     "output_type": "stream",
     "text": [
      "100%|██████████| 367/367 [01:06<00:00,  5.55it/s]\n"
     ]
    }
   ],
   "source": [
    "df=pd.DataFrame()\n",
    "for i in tqdm(range(len(litecoin_links_20191126_20201126))):\n",
    "    file_name=litecoin_links_20191126_20201126[\" Anchor Text\"][i][1:]\n",
    "    with gzip.open(file_name) as f:\n",
    "        temp = pd.read_csv(f,delimiter='\\t')\n",
    "        df=pd.concat([df,temp])"
   ]
  },
  {
   "cell_type": "code",
   "execution_count": 14,
   "metadata": {
    "scrolled": true
   },
   "outputs": [],
   "source": [
    "df.to_csv('bitcoin_blocks_20191126_20201126.csv')"
   ]
  },
  {
   "cell_type": "code",
   "execution_count": 16,
   "metadata": {},
   "outputs": [
    {
     "data": {
      "text/plain": [
       "0      2019-11-26 00:11:19\n",
       "1      2019-11-26 00:21:55\n",
       "2      2019-11-26 00:23:11\n",
       "3      2019-11-26 00:37:50\n",
       "4      2019-11-26 00:48:40\n",
       "              ...         \n",
       "145    2020-11-26 23:06:03\n",
       "146    2020-11-26 23:19:30\n",
       "147    2020-11-26 23:33:31\n",
       "148    2020-11-26 23:41:01\n",
       "149    2020-11-26 23:44:23\n",
       "Name: time, Length: 53426, dtype: object"
      ]
     },
     "execution_count": 16,
     "metadata": {},
     "output_type": "execute_result"
    }
   ],
   "source": [
    "df['time']"
   ]
  },
  {
   "cell_type": "code",
   "execution_count": null,
   "metadata": {},
   "outputs": [],
   "source": []
  }
 ],
 "metadata": {
  "kernelspec": {
   "display_name": "Python 3",
   "language": "python",
   "name": "python3"
  },
  "language_info": {
   "codemirror_mode": {
    "name": "ipython",
    "version": 3
   },
   "file_extension": ".py",
   "mimetype": "text/x-python",
   "name": "python",
   "nbconvert_exporter": "python",
   "pygments_lexer": "ipython3",
   "version": "3.7.4"
  }
 },
 "nbformat": 4,
 "nbformat_minor": 2
}
